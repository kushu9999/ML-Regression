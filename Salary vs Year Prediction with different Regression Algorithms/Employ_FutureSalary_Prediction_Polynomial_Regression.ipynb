{
  "nbformat": 4,
  "nbformat_minor": 0,
  "metadata": {
    "colab": {
      "name": "Employ_FutureSalary_Prediction-Polynomial_Regression.ipynb",
      "provenance": [],
      "include_colab_link": true
    },
    "kernelspec": {
      "name": "python3",
      "display_name": "Python 3"
    }
  },
  "cells": [
    {
      "cell_type": "markdown",
      "metadata": {
        "id": "view-in-github",
        "colab_type": "text"
      },
      "source": [
        "<a href=\"https://colab.research.google.com/github/kushu9999/ML-Supervised/blob/master/Employ_FutureSalary_Prediction_Polynomial_Regression.ipynb\" target=\"_parent\"><img src=\"https://colab.research.google.com/assets/colab-badge.svg\" alt=\"Open In Colab\"/></a>"
      ]
    },
    {
      "cell_type": "code",
      "metadata": {
        "id": "ZrtrPVA3-P1Q",
        "colab_type": "code",
        "colab": {}
      },
      "source": [
        "import numpy as np\n",
        "import pandas as pd\n",
        "import matplotlib.pyplot as plt\n",
        "import seaborn as sns\n",
        "\n",
        "\n",
        "%matplotlib inline"
      ],
      "execution_count": 0,
      "outputs": []
    },
    {
      "cell_type": "code",
      "metadata": {
        "id": "Ph7ryCyQ-xj-",
        "colab_type": "code",
        "colab": {}
      },
      "source": [
        "dataset = pd.read_csv(\"/content/drive/My Drive/Colab Notebooks/Machine Learning A-Z/Part 2 - Regression/Section 6 - Polynomial Regression/Polynomial_Regression/Position_Salaries.csv\")"
      ],
      "execution_count": 0,
      "outputs": []
    },
    {
      "cell_type": "code",
      "metadata": {
        "id": "b9UEzU7L_mhR",
        "colab_type": "code",
        "colab": {}
      },
      "source": [
        "X = dataset.iloc[:,1:2]\n",
        "y = dataset.iloc[:,2]"
      ],
      "execution_count": 0,
      "outputs": []
    },
    {
      "cell_type": "code",
      "metadata": {
        "id": "ETLbT9N0_SRe",
        "colab_type": "code",
        "colab": {
          "base_uri": "https://localhost:8080/",
          "height": 53
        },
        "outputId": "6b6b9eb2-204a-4d17-9b2f-1d4f52076ae2"
      },
      "source": [
        "'''from sklearn.model_selection import train_test_split\n",
        "X_train , X_test , y_train , y_test = train_test_split(X,y , test_size=0.3 , random_state=7)'''\n",
        "# we are not spliting dataset this time because dataset is only 10 it doesn't mean to split 7&3"
      ],
      "execution_count": 21,
      "outputs": [
        {
          "output_type": "execute_result",
          "data": {
            "text/plain": [
              "'from sklearn.model_selection import train_test_split\\nX_train , X_test , y_train , y_test = train_test_split(X,y , test_size=0.3 , random_state=7)'"
            ]
          },
          "metadata": {
            "tags": []
          },
          "execution_count": 21
        }
      ]
    },
    {
      "cell_type": "code",
      "metadata": {
        "id": "50E_3sEB_-uC",
        "colab_type": "code",
        "colab": {
          "base_uri": "https://localhost:8080/",
          "height": 33
        },
        "outputId": "cd0f9303-62b6-489e-eb9b-7851663fe855"
      },
      "source": [
        "#First we creat linear regression\n",
        "from sklearn.linear_model import LinearRegression\n",
        "model = LinearRegression()\n",
        "model.fit(X,y)"
      ],
      "execution_count": 22,
      "outputs": [
        {
          "output_type": "execute_result",
          "data": {
            "text/plain": [
              "LinearRegression(copy_X=True, fit_intercept=True, n_jobs=None, normalize=False)"
            ]
          },
          "metadata": {
            "tags": []
          },
          "execution_count": 22
        }
      ]
    },
    {
      "cell_type": "code",
      "metadata": {
        "id": "HMguzcdkBFLj",
        "colab_type": "code",
        "colab": {
          "base_uri": "https://localhost:8080/",
          "height": 33
        },
        "outputId": "0580a95f-e747-4387-d92e-2704bd035d4d"
      },
      "source": [
        "#fitting polynomial regression in dataset\n",
        "from sklearn.preprocessing import PolynomialFeatures\n",
        "poly_model = PolynomialFeatures(degree=4)\n",
        "X_poly = poly_model.fit_transform(X)\n",
        "poly_model.fit(X_poly,y)\n",
        "model2 = LinearRegression()\n",
        "model2.fit(X_poly,y)"
      ],
      "execution_count": 23,
      "outputs": [
        {
          "output_type": "execute_result",
          "data": {
            "text/plain": [
              "LinearRegression(copy_X=True, fit_intercept=True, n_jobs=None, normalize=False)"
            ]
          },
          "metadata": {
            "tags": []
          },
          "execution_count": 23
        }
      ]
    },
    {
      "cell_type": "markdown",
      "metadata": {
        "id": "PgxwDhdwDJSW",
        "colab_type": "text"
      },
      "source": [
        "# Visulization"
      ]
    },
    {
      "cell_type": "markdown",
      "metadata": {
        "id": "crBRiXxhD8Kw",
        "colab_type": "text"
      },
      "source": [
        "### Visulizing Linear Regressuion"
      ]
    },
    {
      "cell_type": "code",
      "metadata": {
        "id": "_RpWvTkXDLjy",
        "colab_type": "code",
        "colab": {
          "base_uri": "https://localhost:8080/",
          "height": 475
        },
        "outputId": "49811631-f660-4faf-d69d-b6896fb10417"
      },
      "source": [
        "plt.figure(figsize=(15,7))\n",
        "plt.scatter(X,y,color='red')\n",
        "plt.plot(X,model.predict(X),color='blue')\n",
        "plt.xlabel(\"Actual Price\")\n",
        "plt.ylabel(\"Predicted Price\")\n",
        "plt.title(\"Actual Price Vs Predicted Price\")"
      ],
      "execution_count": 24,
      "outputs": [
        {
          "output_type": "execute_result",
          "data": {
            "text/plain": [
              "Text(0.5, 1.0, 'Actual Price Vs Predicted Price')"
            ]
          },
          "metadata": {
            "tags": []
          },
          "execution_count": 24
        },
        {
          "output_type": "display_data",
          "data": {
            "image/png": "[encoded data removed]",
            "text/plain": [
              "<Figure size 1080x504 with 1 Axes>"
            ]
          },
          "metadata": {
            "tags": []
          }
        }
      ]
    },
    {
      "cell_type": "code",
      "metadata": {
        "id": "Fc5yNx65DtJe",
        "colab_type": "code",
        "colab": {
          "base_uri": "https://localhost:8080/",
          "height": 475
        },
        "outputId": "7b43db77-7ed4-4609-e9b6-3b024e107bfc"
      },
      "source": [
        "plt.figure(figsize=(15,7))\n",
        "plt.scatter(X,y,color='red')\n",
        "plt.plot(X,model2.predict(poly_model.fit_transform(X)),color='blue')\n",
        "plt.xlabel(\"Actual salary\")\n",
        "plt.ylabel(\"Predicted salary\")\n",
        "plt.title(\"Actual salary Vs Predicted salary\")"
      ],
      "execution_count": 25,
      "outputs": [
        {
          "output_type": "execute_result",
          "data": {
            "text/plain": [
              "Text(0.5, 1.0, 'Actual Price Vs Predicted Price')"
            ]
          },
          "metadata": {
            "tags": []
          },
          "execution_count": 25
        },
        {
          "output_type": "display_data",
          "data": {
            "image/png": "[encoded data removed]",
            "text/plain": [
              "<Figure size 1080x504 with 1 Axes>"
            ]
          },
          "metadata": {
            "tags": []
          }
        }
      ]
    },
    {
      "cell_type": "code",
      "metadata": {
        "id": "mxkltRQbFINl",
        "colab_type": "code",
        "colab": {}
      },
      "source": [
        ""
      ],
      "execution_count": 0,
      "outputs": []
    },
    {
      "cell_type": "markdown",
      "metadata": {
        "id": "lsirtvPqIecS",
        "colab_type": "text"
      },
      "source": [
        "# Predicting with Random Inputs"
      ]
    },
    {
      "cell_type": "code",
      "metadata": {
        "id": "nEDJZ9nfIhvV",
        "colab_type": "code",
        "colab": {
          "base_uri": "https://localhost:8080/",
          "height": 33
        },
        "outputId": "62fd608a-ccc8-4d47-8499-695df4adae65"
      },
      "source": [
        "model.predict([[6.5]])"
      ],
      "execution_count": 36,
      "outputs": [
        {
          "output_type": "execute_result",
          "data": {
            "text/plain": [
              "array([330378.78787879])"
            ]
          },
          "metadata": {
            "tags": []
          },
          "execution_count": 36
        }
      ]
    },
    {
      "cell_type": "code",
      "metadata": {
        "id": "6n-ObIsKI16Y",
        "colab_type": "code",
        "colab": {
          "base_uri": "https://localhost:8080/",
          "height": 33
        },
        "outputId": "5125657f-0d4f-49d5-cdbf-3ccf970564d5"
      },
      "source": [
        "model2.predict(poly_model.fit_transform([[6.5]]))"
      ],
      "execution_count": 37,
      "outputs": [
        {
          "output_type": "execute_result",
          "data": {
            "text/plain": [
              "array([158862.45265155])"
            ]
          },
          "metadata": {
            "tags": []
          },
          "execution_count": 37
        }
      ]
    },
    {
      "cell_type": "code",
      "metadata": {
        "id": "TR8Snh6fJlxR",
        "colab_type": "code",
        "colab": {}
      },
      "source": [
        ""
      ],
      "execution_count": 0,
      "outputs": []
    }
  ]
}