{
  "nbformat": 4,
  "nbformat_minor": 0,
  "metadata": {
    "colab": {
      "name": "Employ_FutureSalary_Prediction-Decision_Tree_Regression.ipynb",
      "provenance": [],
      "collapsed_sections": [],
      "toc_visible": true,
      "include_colab_link": true
    },
    "kernelspec": {
      "name": "python3",
      "display_name": "Python 3"
    }
  },
  "cells": [
    {
      "cell_type": "markdown",
      "metadata": {
        "id": "view-in-github",
        "colab_type": "text"
      },
      "source": [
        "<a href=\"https://colab.research.google.com/github/kushu9999/ML-Supervised/blob/master/Employ_FutureSalary_Prediction_Decision_Tree_Regression.ipynb\" target=\"_parent\"><img src=\"https://colab.research.google.com/assets/colab-badge.svg\" alt=\"Open In Colab\"/></a>"
      ]
    },
    {
      "cell_type": "markdown",
      "metadata": {
        "id": "eA4L6HJXgyF-",
        "colab_type": "text"
      },
      "source": [
        "To Understand this First Visit Employ_FutureSalary_Prediction-Polynomial_Regression.ipynb and To Understand this First Visit Employ_FutureSalary_Prediction-SVR_Regression.ipynb"
      ]
    },
    {
      "cell_type": "code",
      "metadata": {
        "colab_type": "code",
        "id": "PK6fqUYYgxoM",
        "colab": {}
      },
      "source": [
        "import numpy as np\n",
        "import pandas as pd\n",
        "import matplotlib.pyplot as plt\n",
        "\n",
        "\n",
        "%matplotlib inline"
      ],
      "execution_count": 0,
      "outputs": []
    },
    {
      "cell_type": "code",
      "metadata": {
        "id": "xAJD0Vu0ex86",
        "colab_type": "code",
        "colab": {}
      },
      "source": [
        "dataset = pd.read_csv(\"/content/drive/My Drive/Colab Notebooks/Machine Learning A-Z/Part 2 - Regression/Section 6 - Polynomial Regression/Polynomial_Regression/Position_Salaries.csv\")"
      ],
      "execution_count": 0,
      "outputs": []
    },
    {
      "cell_type": "code",
      "metadata": {
        "id": "bHMzmEYmetfA",
        "colab_type": "code",
        "colab": {}
      },
      "source": [
        "X = dataset.iloc[:,1:2]\n",
        "X = X.values.reshape(-1,1)\n",
        "y = dataset.iloc[:,2]\n",
        "y = y.values.reshape(-1,1)"
      ],
      "execution_count": 0,
      "outputs": []
    },
    {
      "cell_type": "code",
      "metadata": {
        "id": "Aoo6ieNGe-wp",
        "colab_type": "code",
        "outputId": "6a05afb7-709b-406a-aab8-cd846678b0c0",
        "colab": {
          "base_uri": "https://localhost:8080/",
          "height": 101
        }
      },
      "source": [
        "from sklearn.tree import DecisionTreeRegressor\n",
        "model = DecisionTreeRegressor(random_state = 0)\n",
        "model.fit(X,y)"
      ],
      "execution_count": 5,
      "outputs": [
        {
          "output_type": "execute_result",
          "data": {
            "text/plain": [
              "DecisionTreeRegressor(criterion='mse', max_depth=None, max_features=None,\n",
              "                      max_leaf_nodes=None, min_impurity_decrease=0.0,\n",
              "                      min_impurity_split=None, min_samples_leaf=1,\n",
              "                      min_samples_split=2, min_weight_fraction_leaf=0.0,\n",
              "                      presort=False, random_state=0, splitter='best')"
            ]
          },
          "metadata": {
            "tags": []
          },
          "execution_count": 5
        }
      ]
    },
    {
      "cell_type": "code",
      "metadata": {
        "id": "_ZRRtBXbe_XC",
        "colab_type": "code",
        "colab": {}
      },
      "source": [
        "y_pred = model.predict([[6.5]])"
      ],
      "execution_count": 0,
      "outputs": []
    },
    {
      "cell_type": "code",
      "metadata": {
        "id": "DWvzqtJAfAK2",
        "colab_type": "code",
        "outputId": "d0057c05-7987-4956-cd2f-9fcebf7c9560",
        "colab": {
          "base_uri": "https://localhost:8080/",
          "height": 34
        }
      },
      "source": [
        "y_pred"
      ],
      "execution_count": 7,
      "outputs": [
        {
          "output_type": "execute_result",
          "data": {
            "text/plain": [
              "array([150000.])"
            ]
          },
          "metadata": {
            "tags": []
          },
          "execution_count": 7
        }
      ]
    },
    {
      "cell_type": "markdown",
      "metadata": {
        "id": "5rWMuB7ahAvk",
        "colab_type": "text"
      },
      "source": [
        "# Visulization"
      ]
    },
    {
      "cell_type": "code",
      "metadata": {
        "id": "0T3JjSdAfAaV",
        "colab_type": "code",
        "outputId": "2d42091f-b21d-4dba-a471-f29d21455a49",
        "colab": {
          "base_uri": "https://localhost:8080/",
          "height": 475
        }
      },
      "source": [
        "X_grid = np.arange(min(X),max(X),0.01)\n",
        "X_grid = X_grid.reshape((len(X_grid),1))\n",
        "\n",
        "\n",
        "plt.figure(figsize=(15,7))\n",
        "plt.scatter(X,y,color='red')\n",
        "plt.plot(X_grid,model.predict(X_grid),color='blue')\n",
        "plt.xlabel(\"Actual salary\")\n",
        "plt.ylabel(\"Predicted salary\")\n",
        "plt.title(\"Actual salary Vs Predicted salary\")"
      ],
      "execution_count": 8,
      "outputs": [
        {
          "output_type": "execute_result",
          "data": {
            "text/plain": [
              "Text(0.5, 1.0, 'Actual salary Vs Predicted salary')"
            ]
          },
          "metadata": {
            "tags": []
          },
          "execution_count": 8
        },
        {
          "output_type": "display_data",
          "data": {
            "image/png": "[encoded data removed]",
            "text/plain": [
              "<Figure size 1080x504 with 1 Axes>"
            ]
          },
          "metadata": {
            "tags": []
          }
        }
      ]
    },
    {
      "cell_type": "code",
      "metadata": {
        "id": "nCGEmDXJiL7c",
        "colab_type": "code",
        "colab": {}
      },
      "source": [
        ""
      ],
      "execution_count": 0,
      "outputs": []
    }
  ]
}