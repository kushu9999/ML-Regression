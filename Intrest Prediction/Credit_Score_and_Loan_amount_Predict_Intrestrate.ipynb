{
  "nbformat": 4,
  "nbformat_minor": 0,
  "metadata": {
    "colab": {
      "name": "Credit Score and Loan amount Predict Intrestrate.ipynb",
      "provenance": [],
      "toc_visible": true,
      "include_colab_link": true
    },
    "kernelspec": {
      "name": "python3",
      "display_name": "Python 3"
    },
    "accelerator": "GPU"
  },
  "cells": [
    {
      "cell_type": "markdown",
      "metadata": {
        "id": "view-in-github",
        "colab_type": "text"
      },
      "source": [
        "<a href=\"https://colab.research.google.com/github/kushu9999/ML-Supervised/blob/master/Credit_Score_and_Loan_amount_Predict_Intrestrate.ipynb\" target=\"_parent\"><img src=\"https://colab.research.google.com/assets/colab-badge.svg\" alt=\"Open In Colab\"/></a>"
      ]
    },
    {
      "cell_type": "markdown",
      "metadata": {
        "id": "hycMqldNr8t0",
        "colab_type": "text"
      },
      "source": [
        "# Import Libraries\n"
      ]
    },
    {
      "cell_type": "code",
      "metadata": {
        "id": "Xg_KRwE2fKon",
        "colab_type": "code",
        "colab": {}
      },
      "source": [
        "import numpy as np\n",
        "import pandas as pd\n",
        "import matplotlib.pyplot as plt\n",
        "import seaborn as sns\n",
        "import statsmodels.api as sm\n",
        "sns.set_style('whitegrid')\n",
        "\n",
        "%matplotlib inline"
      ],
      "execution_count": 0,
      "outputs": []
    },
    {
      "cell_type": "markdown",
      "metadata": {
        "id": "8lEA-CTHsDK-",
        "colab_type": "text"
      },
      "source": [
        "### Work on dataset"
      ]
    },
    {
      "cell_type": "code",
      "metadata": {
        "id": "2ja6KQF7pZZ1",
        "colab_type": "code",
        "colab": {}
      },
      "source": [
        "loans_data = pd.read_csv('https://spark-public.s3.amazonaws.com/dataanalysis/loansData.csv')"
      ],
      "execution_count": 0,
      "outputs": []
    },
    {
      "cell_type": "code",
      "metadata": {
        "id": "_BMlbU3Lrb6Y",
        "colab_type": "code",
        "outputId": "55ed7dd6-97b4-43e2-99a4-b5383187f673",
        "colab": {
          "base_uri": "https://localhost:8080/",
          "height": 251
        }
      },
      "source": [
        "loans_data.head"
      ],
      "execution_count": 0,
      "outputs": [
        {
          "output_type": "execute_result",
          "data": {
            "text/plain": [
              "<bound method NDFrame.head of        Amount.Requested  ...  Employment.Length\n",
              "81174             20000  ...           < 1 year\n",
              "99592             19200  ...            2 years\n",
              "80059             35000  ...            2 years\n",
              "15825             10000  ...            5 years\n",
              "33182             12000  ...            9 years\n",
              "...                 ...  ...                ...\n",
              "23735             30000  ...            8 years\n",
              "65882             16000  ...          10+ years\n",
              "55610             10000  ...          10+ years\n",
              "38576              6000  ...            5 years\n",
              "3116               9000  ...          10+ years\n",
              "\n",
              "[2500 rows x 14 columns]>"
            ]
          },
          "metadata": {
            "tags": []
          },
          "execution_count": 3
        }
      ]
    },
    {
      "cell_type": "code",
      "metadata": {
        "id": "w5MBskoOtS0i",
        "colab_type": "code",
        "outputId": "8af68006-52ff-4527-fa29-2b2d28dffd73",
        "colab": {
          "base_uri": "https://localhost:8080/",
          "height": 201
        }
      },
      "source": [
        "loans_data['Loan.Length'][0:10]"
      ],
      "execution_count": 0,
      "outputs": [
        {
          "output_type": "execute_result",
          "data": {
            "text/plain": [
              "81174    36 months\n",
              "99592    36 months\n",
              "80059    60 months\n",
              "15825    36 months\n",
              "33182    36 months\n",
              "62403    36 months\n",
              "48808    36 months\n",
              "22090    60 months\n",
              "76404    36 months\n",
              "15867    36 months\n",
              "Name: Loan.Length, dtype: object"
            ]
          },
          "metadata": {
            "tags": []
          },
          "execution_count": 4
        }
      ]
    },
    {
      "cell_type": "code",
      "metadata": {
        "id": "KuyXrFmktTn2",
        "colab_type": "code",
        "outputId": "4a7b2759-1aea-48df-f9da-5b9b91832077",
        "colab": {
          "base_uri": "https://localhost:8080/",
          "height": 201
        }
      },
      "source": [
        "loans_data['Interest.Rate'][0:10]"
      ],
      "execution_count": 0,
      "outputs": [
        {
          "output_type": "execute_result",
          "data": {
            "text/plain": [
              "81174     8.90%\n",
              "99592    12.12%\n",
              "80059    21.98%\n",
              "15825     9.99%\n",
              "33182    11.71%\n",
              "62403    15.31%\n",
              "48808     7.90%\n",
              "22090    17.14%\n",
              "76404    14.33%\n",
              "15867     6.91%\n",
              "Name: Interest.Rate, dtype: object"
            ]
          },
          "metadata": {
            "tags": []
          },
          "execution_count": 5
        }
      ]
    },
    {
      "cell_type": "code",
      "metadata": {
        "id": "QgmQ7PZ_tUKQ",
        "colab_type": "code",
        "outputId": "68612e9a-793a-45ec-c5f9-1ec87aba7f0a",
        "colab": {
          "base_uri": "https://localhost:8080/",
          "height": 201
        }
      },
      "source": [
        "loans_data['FICO.Range'][0:10]"
      ],
      "execution_count": 0,
      "outputs": [
        {
          "output_type": "execute_result",
          "data": {
            "text/plain": [
              "81174    735-739\n",
              "99592    715-719\n",
              "80059    690-694\n",
              "15825    695-699\n",
              "33182    695-699\n",
              "62403    670-674\n",
              "48808    720-724\n",
              "22090    705-709\n",
              "76404    685-689\n",
              "15867    715-719\n",
              "Name: FICO.Range, dtype: object"
            ]
          },
          "metadata": {
            "tags": []
          },
          "execution_count": 6
        }
      ]
    },
    {
      "cell_type": "code",
      "metadata": {
        "id": "vWOfTUYDucUo",
        "colab_type": "code",
        "outputId": "da3211b0-46ac-4107-910e-1f1a3a5c8a2e",
        "colab": {
          "base_uri": "https://localhost:8080/",
          "height": 201
        }
      },
      "source": [
        "loans_data['Monthly.Income'][0:10]"
      ],
      "execution_count": 0,
      "outputs": [
        {
          "output_type": "execute_result",
          "data": {
            "text/plain": [
              "81174     6541.67\n",
              "99592     4583.33\n",
              "80059    11500.00\n",
              "15825     3833.33\n",
              "33182     3195.00\n",
              "62403     4891.67\n",
              "48808     2916.67\n",
              "22090    13863.42\n",
              "76404     3150.00\n",
              "15867     5000.00\n",
              "Name: Monthly.Income, dtype: float64"
            ]
          },
          "metadata": {
            "tags": []
          },
          "execution_count": 7
        }
      ]
    },
    {
      "cell_type": "code",
      "metadata": {
        "id": "F204HKPqrsaq",
        "colab_type": "code",
        "outputId": "c6281687-82ea-42f3-ebac-68450c15420b",
        "colab": {
          "base_uri": "https://localhost:8080/",
          "height": 117
        }
      },
      "source": [
        "loans_data.columns"
      ],
      "execution_count": 0,
      "outputs": [
        {
          "output_type": "execute_result",
          "data": {
            "text/plain": [
              "Index(['Amount.Requested', 'Amount.Funded.By.Investors', 'Interest.Rate',\n",
              "       'Loan.Length', 'Loan.Purpose', 'Debt.To.Income.Ratio', 'State',\n",
              "       'Home.Ownership', 'Monthly.Income', 'FICO.Range', 'Open.CREDIT.Lines',\n",
              "       'Revolving.CREDIT.Balance', 'Inquiries.in.the.Last.6.Months',\n",
              "       'Employment.Length'],\n",
              "      dtype='object')"
            ]
          },
          "metadata": {
            "tags": []
          },
          "execution_count": 8
        }
      ]
    },
    {
      "cell_type": "markdown",
      "metadata": {
        "id": "REU25quOsjx3",
        "colab_type": "text"
      },
      "source": [
        "# Now We have to pre-proces the dataset\n",
        "We will use those data what we have to use (loan length,intrest rate , FICO range,Monthly income)\n",
        "other data we'll remove \n",
        "converting data intp pure Numeric format\n",
        "we'll remove \"%\" ,\"Months\" etc these things "
      ]
    },
    {
      "cell_type": "code",
      "metadata": {
        "id": "04_R99yptEy5",
        "colab_type": "code",
        "colab": {}
      },
      "source": [
        "loans = pd.read_csv(\"/content/drive/My Drive/YT-Data/loan.csv\")"
      ],
      "execution_count": 0,
      "outputs": []
    },
    {
      "cell_type": "code",
      "metadata": {
        "id": "cUR9q1jiuWe8",
        "colab_type": "code",
        "outputId": "57106d81-c218-44d3-bad2-eab261b19bd4",
        "colab": {
          "base_uri": "https://localhost:8080/",
          "height": 196
        }
      },
      "source": [
        "loans.head()"
      ],
      "execution_count": 0,
      "outputs": [
        {
          "output_type": "execute_result",
          "data": {
            "text/html": [
              "<div>\n",
              "<style scoped>\n",
              "    .dataframe tbody tr th:only-of-type {\n",
              "        vertical-align: middle;\n",
              "    }\n",
              "\n",
              "    .dataframe tbody tr th {\n",
              "        vertical-align: top;\n",
              "    }\n",
              "\n",
              "    .dataframe thead th {\n",
              "        text-align: right;\n",
              "    }\n",
              "</style>\n",
              "<table border=\"1\" class=\"dataframe\">\n",
              "  <thead>\n",
              "    <tr style=\"text-align: right;\">\n",
              "      <th></th>\n",
              "      <th>Interest.Rate</th>\n",
              "      <th>FICO.Score</th>\n",
              "      <th>Loan.Length</th>\n",
              "      <th>Monthly.Income</th>\n",
              "      <th>Loan.Amount</th>\n",
              "    </tr>\n",
              "  </thead>\n",
              "  <tbody>\n",
              "    <tr>\n",
              "      <th>6</th>\n",
              "      <td>15.31</td>\n",
              "      <td>670</td>\n",
              "      <td>36</td>\n",
              "      <td>4891.67</td>\n",
              "      <td>6000</td>\n",
              "    </tr>\n",
              "    <tr>\n",
              "      <th>11</th>\n",
              "      <td>19.72</td>\n",
              "      <td>670</td>\n",
              "      <td>36</td>\n",
              "      <td>3575.00</td>\n",
              "      <td>2000</td>\n",
              "    </tr>\n",
              "    <tr>\n",
              "      <th>12</th>\n",
              "      <td>14.27</td>\n",
              "      <td>665</td>\n",
              "      <td>36</td>\n",
              "      <td>4250.00</td>\n",
              "      <td>10625</td>\n",
              "    </tr>\n",
              "    <tr>\n",
              "      <th>13</th>\n",
              "      <td>21.67</td>\n",
              "      <td>670</td>\n",
              "      <td>60</td>\n",
              "      <td>14166.67</td>\n",
              "      <td>28000</td>\n",
              "    </tr>\n",
              "    <tr>\n",
              "      <th>21</th>\n",
              "      <td>21.98</td>\n",
              "      <td>665</td>\n",
              "      <td>36</td>\n",
              "      <td>6666.67</td>\n",
              "      <td>22000</td>\n",
              "    </tr>\n",
              "  </tbody>\n",
              "</table>\n",
              "</div>"
            ],
            "text/plain": [
              "    Interest.Rate  FICO.Score  Loan.Length  Monthly.Income  Loan.Amount\n",
              "6           15.31         670           36         4891.67         6000\n",
              "11          19.72         670           36         3575.00         2000\n",
              "12          14.27         665           36         4250.00        10625\n",
              "13          21.67         670           60        14166.67        28000\n",
              "21          21.98         665           36         6666.67        22000"
            ]
          },
          "metadata": {
            "tags": []
          },
          "execution_count": 10
        }
      ]
    },
    {
      "cell_type": "code",
      "metadata": {
        "id": "j8jq5IifuvBF",
        "colab_type": "code",
        "colab": {}
      },
      "source": [
        ""
      ],
      "execution_count": 0,
      "outputs": []
    },
    {
      "cell_type": "markdown",
      "metadata": {
        "id": "w52_ycGgvLbP",
        "colab_type": "text"
      },
      "source": [
        "# Visulize the data"
      ]
    },
    {
      "cell_type": "markdown",
      "metadata": {
        "id": "ubus6b7iv0Dl",
        "colab_type": "text"
      },
      "source": [
        "Histogram of FICO Score"
      ]
    },
    {
      "cell_type": "code",
      "metadata": {
        "id": "lJKGqXlevNmf",
        "colab_type": "code",
        "outputId": "f5449cfa-fe07-43ee-94fc-21b39f76159e",
        "colab": {
          "base_uri": "https://localhost:8080/",
          "height": 297
        }
      },
      "source": [
        "plt.figure()\n",
        "plt.title(\"Histogram of FICO Score\")\n",
        "\n",
        "loans = pd.read_csv(\"/content/drive/My Drive/YT-Data/loan.csv\")\n",
        "fico  = loans['FICO.Score']\n",
        "fico.hist(bins = 20)"
      ],
      "execution_count": 0,
      "outputs": [
        {
          "output_type": "execute_result",
          "data": {
            "text/plain": [
              "<matplotlib.axes._subplots.AxesSubplot at 0x7fc99ba83400>"
            ]
          },
          "metadata": {
            "tags": []
          },
          "execution_count": 11
        },
        {
          "output_type": "display_data",
          "data": {
            "image/png": "[encoded data removed]",
            "text/plain": [
              "<Figure size 432x288 with 1 Axes>"
            ]
          },
          "metadata": {
            "tags": []
          }
        }
      ]
    },
    {
      "cell_type": "code",
      "metadata": {
        "id": "y3HUk2rvvs4l",
        "colab_type": "code",
        "outputId": "004ad344-2bb7-4fef-8c2f-ef09cd1e074f",
        "colab": {
          "base_uri": "https://localhost:8080/",
          "height": 334
        }
      },
      "source": [
        "plt.figure()\n",
        "loans = pd.read_csv(\"/content/drive/My Drive/YT-Data/loan.csv\")\n",
        "x = loans.boxplot('Interest.Rate','FICO.Score')\n",
        "x.set_xlabel(\"FICO Score\")\n",
        "x.set_ylabel(\"Intrest Rate\")"
      ],
      "execution_count": 0,
      "outputs": [
        {
          "output_type": "execute_result",
          "data": {
            "text/plain": [
              "Text(0, 0.5, 'Intrest Rate')"
            ]
          },
          "metadata": {
            "tags": []
          },
          "execution_count": 12
        },
        {
          "output_type": "display_data",
          "data": {
            "text/plain": [
              "<Figure size 432x288 with 0 Axes>"
            ]
          },
          "metadata": {
            "tags": []
          }
        },
        {
          "output_type": "display_data",
          "data": {
            "image/png": "[encoded data removed]",
            "text/plain": [
              "<Figure size 432x288 with 1 Axes>"
            ]
          },
          "metadata": {
            "tags": []
          }
        }
      ]
    },
    {
      "cell_type": "markdown",
      "metadata": {
        "id": "5INZptTXD5iK",
        "colab_type": "text"
      },
      "source": [
        "# Analysis the data"
      ]
    },
    {
      "cell_type": "code",
      "metadata": {
        "id": "VCM9D58hDNZb",
        "colab_type": "code",
        "colab": {}
      },
      "source": [
        "int_rate  = loans['Interest.Rate']\n",
        "loan_amt = loans['Loan.Amount']\n",
        "fico_score = loans['FICO.Score']\n"
      ],
      "execution_count": 0,
      "outputs": []
    },
    {
      "cell_type": "code",
      "metadata": {
        "id": "3VyhXgzuEeC4",
        "colab_type": "code",
        "colab": {}
      },
      "source": [
        "y = loans.iloc[:,0]"
      ],
      "execution_count": 0,
      "outputs": []
    },
    {
      "cell_type": "code",
      "metadata": {
        "id": "Cx9FWnn3E1-m",
        "colab_type": "code",
        "colab": {}
      },
      "source": [
        "X1 = loans.iloc[:,1]\n",
        "X2 = loans.iloc[:,4]"
      ],
      "execution_count": 0,
      "outputs": []
    },
    {
      "cell_type": "code",
      "metadata": {
        "id": "WRva1J1VFFeS",
        "colab_type": "code",
        "outputId": "01d8f97c-ff1f-4b83-e8a8-b16081c33d07",
        "colab": {
          "base_uri": "https://localhost:8080/",
          "height": 217
        }
      },
      "source": [
        "X1"
      ],
      "execution_count": 0,
      "outputs": [
        {
          "output_type": "execute_result",
          "data": {
            "text/plain": [
              "6       670\n",
              "11      670\n",
              "12      665\n",
              "13      670\n",
              "21      665\n",
              "       ... \n",
              "2472    770\n",
              "2481    760\n",
              "2482    810\n",
              "2486    765\n",
              "2497    740\n",
              "Name: FICO.Score, Length: 2500, dtype: int64"
            ]
          },
          "metadata": {
            "tags": []
          },
          "execution_count": 16
        }
      ]
    },
    {
      "cell_type": "code",
      "metadata": {
        "id": "mif_hpACFPdf",
        "colab_type": "code",
        "outputId": "f73470b6-3f29-4034-d94a-aac5d2a8e280",
        "colab": {
          "base_uri": "https://localhost:8080/",
          "height": 217
        }
      },
      "source": [
        "X2"
      ],
      "execution_count": 0,
      "outputs": [
        {
          "output_type": "execute_result",
          "data": {
            "text/plain": [
              "6        6000\n",
              "11       2000\n",
              "12      10625\n",
              "13      28000\n",
              "21      22000\n",
              "        ...  \n",
              "2472    19000\n",
              "2481    10000\n",
              "2482    27000\n",
              "2486    25000\n",
              "2497    16000\n",
              "Name: Loan.Amount, Length: 2500, dtype: int64"
            ]
          },
          "metadata": {
            "tags": []
          },
          "execution_count": 17
        }
      ]
    },
    {
      "cell_type": "code",
      "metadata": {
        "id": "U9uJDTq9GJ3l",
        "colab_type": "code",
        "outputId": "f5e76de5-ae18-44cd-96bc-d96b14830698",
        "colab": {
          "base_uri": "https://localhost:8080/",
          "height": 217
        }
      },
      "source": [
        "y"
      ],
      "execution_count": 0,
      "outputs": [
        {
          "output_type": "execute_result",
          "data": {
            "text/plain": [
              "6       15.31\n",
              "11      19.72\n",
              "12      14.27\n",
              "13      21.67\n",
              "21      21.98\n",
              "        ...  \n",
              "2472     7.90\n",
              "2481     6.03\n",
              "2482     6.62\n",
              "2486    10.75\n",
              "2497    14.09\n",
              "Name: Interest.Rate, Length: 2500, dtype: float64"
            ]
          },
          "metadata": {
            "tags": []
          },
          "execution_count": 18
        }
      ]
    },
    {
      "cell_type": "code",
      "metadata": {
        "id": "iDOt4tr4GLEg",
        "colab_type": "code",
        "colab": {}
      },
      "source": [
        "X = np.column_stack([X1,X2])"
      ],
      "execution_count": 0,
      "outputs": []
    },
    {
      "cell_type": "code",
      "metadata": {
        "id": "gNoZXSlQGkpx",
        "colab_type": "code",
        "outputId": "7127306b-f0c3-4f03-862c-2e6e491778ae",
        "colab": {
          "base_uri": "https://localhost:8080/",
          "height": 134
        }
      },
      "source": [
        "X"
      ],
      "execution_count": 0,
      "outputs": [
        {
          "output_type": "execute_result",
          "data": {
            "text/plain": [
              "array([[  670,  6000],\n",
              "       [  670,  2000],\n",
              "       [  665, 10625],\n",
              "       ...,\n",
              "       [  810, 27000],\n",
              "       [  765, 25000],\n",
              "       [  740, 16000]])"
            ]
          },
          "metadata": {
            "tags": []
          },
          "execution_count": 20
        }
      ]
    },
    {
      "cell_type": "code",
      "metadata": {
        "id": "x3aQu88xGlkP",
        "colab_type": "code",
        "colab": {}
      },
      "source": [
        "X3 = sm.add_constant(X)"
      ],
      "execution_count": 0,
      "outputs": []
    },
    {
      "cell_type": "markdown",
      "metadata": {
        "id": "t5FvYlQwHOkB",
        "colab_type": "text"
      },
      "source": [
        "# Making Model"
      ]
    },
    {
      "cell_type": "code",
      "metadata": {
        "id": "Pc_OcNPoHQTh",
        "colab_type": "code",
        "colab": {}
      },
      "source": [
        "model  = sm.OLS(y,X3)"
      ],
      "execution_count": 0,
      "outputs": []
    },
    {
      "cell_type": "code",
      "metadata": {
        "id": "tCJ-0LzVHgkL",
        "colab_type": "code",
        "colab": {}
      },
      "source": [
        "A = model.fit()"
      ],
      "execution_count": 0,
      "outputs": []
    },
    {
      "cell_type": "code",
      "metadata": {
        "id": "GUz-Qk-4HlET",
        "colab_type": "code",
        "outputId": "7830e256-03d3-4748-ebaa-1c894d19df4b",
        "colab": {
          "base_uri": "https://localhost:8080/",
          "height": 100
        }
      },
      "source": [
        "print(\"the P values are : \",A.pvalues)\n",
        "print(\"The R-squred value is : \",A.rsquared)"
      ],
      "execution_count": 0,
      "outputs": [
        {
          "output_type": "stream",
          "text": [
            "the P values are :  const     0.000000e+00\n",
            "x1        0.000000e+00\n",
            "x2       5.969730e-203\n",
            "dtype: float64\n",
            "The R-squred value is :  0.6566326246493588\n"
          ],
          "name": "stdout"
        }
      ]
    },
    {
      "cell_type": "code",
      "metadata": {
        "id": "0nIQDMFXN3B_",
        "colab_type": "code",
        "colab": {}
      },
      "source": [
        ""
      ],
      "execution_count": 0,
      "outputs": []
    }
  ]
}